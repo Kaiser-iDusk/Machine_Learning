{
  "nbformat": 4,
  "nbformat_minor": 0,
  "metadata": {
    "colab": {
      "provenance": [],
      "gpuType": "T4"
    },
    "kernelspec": {
      "name": "python3",
      "display_name": "Python 3"
    },
    "language_info": {
      "name": "python"
    },
    "accelerator": "GPU"
  },
  "cells": [
    {
      "cell_type": "code",
      "execution_count": 40,
      "metadata": {
        "id": "4nPpvdlR3doP"
      },
      "outputs": [],
      "source": [
        "import numpy as np\n",
        "import os\n",
        "import cv2\n",
        "import matplotlib.pyplot as plt\n",
        "import tensorflow as tf\n",
        "from tensorflow import keras\n",
        "import tensorflow_datasets as tfds"
      ]
    },
    {
      "cell_type": "code",
      "source": [
        "dl = tfds.load('mnist', shuffle_files=True)"
      ],
      "metadata": {
        "id": "zQwyBT8F6swp"
      },
      "execution_count": 41,
      "outputs": []
    },
    {
      "cell_type": "code",
      "source": [
        "ds = dl['train']"
      ],
      "metadata": {
        "id": "DExomgIb8Har"
      },
      "execution_count": 42,
      "outputs": []
    },
    {
      "cell_type": "code",
      "source": [
        "dataiter = ds.as_numpy_iterator()"
      ],
      "metadata": {
        "id": "xatRWrqL97h_"
      },
      "execution_count": 43,
      "outputs": []
    },
    {
      "cell_type": "code",
      "source": [
        "fig, axs = plt.subplots(ncols=4, figsize=(8, 8))\n",
        "for idx in range(4):\n",
        "  batch = dataiter.next()\n",
        "  axs[idx].imshow(np.squeeze(batch['image']), 'gray')\n",
        "  axs[idx].set_title(batch['label'])\n",
        "  axs[idx].axis('off')"
      ],
      "metadata": {
        "colab": {
          "base_uri": "https://localhost:8080/",
          "height": 194
        },
        "id": "dImBLRcY8wOL",
        "outputId": "9dfbdf30-492c-44ce-c761-921b8281f6f8"
      },
      "execution_count": 44,
      "outputs": [
        {
          "output_type": "display_data",
          "data": {
            "text/plain": [
              "<Figure size 800x800 with 4 Axes>"
            ],
            "image/png": "[encoded data removed]"
          },
          "metadata": {}
        }
      ]
    },
    {
      "cell_type": "code",
      "source": [
        "def process(image_data):\n",
        "  img = image_data['image']\n",
        "  return img / 255"
      ],
      "metadata": {
        "id": "AT7moVvs-5yX"
      },
      "execution_count": 45,
      "outputs": []
    },
    {
      "cell_type": "code",
      "source": [
        "BATCH_SIZE = 128"
      ],
      "metadata": {
        "id": "NTxSuGgP_jE7"
      },
      "execution_count": 46,
      "outputs": []
    },
    {
      "cell_type": "code",
      "source": [
        "ds = ds.map(process)\n",
        "ds = ds.cache()\n",
        "ds = ds.batch(BATCH_SIZE)\n",
        "ds = ds.prefetch(64)"
      ],
      "metadata": {
        "id": "zmjmy7LO_U0g"
      },
      "execution_count": 47,
      "outputs": []
    },
    {
      "cell_type": "code",
      "source": [
        "np.squeeze(ds.as_numpy_iterator().next()).shape"
      ],
      "metadata": {
        "colab": {
          "base_uri": "https://localhost:8080/"
        },
        "id": "SD6Je-yEBjc7",
        "outputId": "85552fb2-16b0-45e8-ea1d-e79fd0719a79"
      },
      "execution_count": 48,
      "outputs": [
        {
          "output_type": "execute_result",
          "data": {
            "text/plain": [
              "(128, 28, 28)"
            ]
          },
          "metadata": {},
          "execution_count": 48
        }
      ]
    },
    {
      "cell_type": "code",
      "source": [
        "from keras.layers import Conv2D, Dense, LeakyReLU, UpSampling2D, Dropout, Reshape, Flatten\n",
        "from keras.models import Sequential"
      ],
      "metadata": {
        "id": "4Jh6w63hCP_W"
      },
      "execution_count": 49,
      "outputs": []
    },
    {
      "cell_type": "code",
      "source": [
        "def build_generator():\n",
        "  model = Sequential([\n",
        "      Dense(7*7*128, input_dim=128),\n",
        "      LeakyReLU(0.2),\n",
        "      Reshape((7, 7, 128)),\n",
        "\n",
        "      UpSampling2D(),\n",
        "      Conv2D(128, 5, padding='same'),\n",
        "      LeakyReLU(0.2),\n",
        "\n",
        "      UpSampling2D(),\n",
        "      Conv2D(128, 5, padding='same'),\n",
        "      LeakyReLU(0.2),\n",
        "\n",
        "      Conv2D(128, 3, padding='same'),\n",
        "      LeakyReLU(0.2),\n",
        "\n",
        "      Conv2D(64, 3, padding='same'),\n",
        "      LeakyReLU(0.2),\n",
        "\n",
        "      Conv2D(1, 3, padding='same', activation = 'sigmoid')\n",
        "  ])\n",
        "\n",
        "  return model"
      ],
      "metadata": {
        "id": "UsPN8yWmDNL4"
      },
      "execution_count": 50,
      "outputs": []
    },
    {
      "cell_type": "code",
      "source": [
        "generator = build_generator()\n",
        "generator.summary()"
      ],
      "metadata": {
        "colab": {
          "base_uri": "https://localhost:8080/"
        },
        "id": "Ztt_BsHlDXn2",
        "outputId": "051cb3f0-7036-497f-c4da-2c6fc311c222"
      },
      "execution_count": 51,
      "outputs": [
        {
          "output_type": "stream",
          "name": "stdout",
          "text": [
            "Model: \"sequential_2\"\n",
            "_________________________________________________________________\n",
            " Layer (type)                Output Shape              Param #   \n",
            "=================================================================\n",
            " dense_2 (Dense)             (None, 6272)              809088    \n",
            "                                                                 \n",
            " leaky_re_lu_9 (LeakyReLU)   (None, 6272)              0         \n",
            "                                                                 \n",
            " reshape_1 (Reshape)         (None, 7, 7, 128)         0         \n",
            "                                                                 \n",
            " up_sampling2d_2 (UpSamplin  (None, 14, 14, 128)       0         \n",
            " g2D)                                                            \n",
            "                                                                 \n",
            " conv2d_9 (Conv2D)           (None, 14, 14, 128)       409728    \n",
            "                                                                 \n",
            " leaky_re_lu_10 (LeakyReLU)  (None, 14, 14, 128)       0         \n",
            "                                                                 \n",
            " up_sampling2d_3 (UpSamplin  (None, 28, 28, 128)       0         \n",
            " g2D)                                                            \n",
            "                                                                 \n",
            " conv2d_10 (Conv2D)          (None, 28, 28, 128)       409728    \n",
            "                                                                 \n",
            " leaky_re_lu_11 (LeakyReLU)  (None, 28, 28, 128)       0         \n",
            "                                                                 \n",
            " conv2d_11 (Conv2D)          (None, 28, 28, 128)       147584    \n",
            "                                                                 \n",
            " leaky_re_lu_12 (LeakyReLU)  (None, 28, 28, 128)       0         \n",
            "                                                                 \n",
            " conv2d_12 (Conv2D)          (None, 28, 28, 64)        73792     \n",
            "                                                                 \n",
            " leaky_re_lu_13 (LeakyReLU)  (None, 28, 28, 64)        0         \n",
            "                                                                 \n",
            " conv2d_13 (Conv2D)          (None, 28, 28, 1)         577       \n",
            "                                                                 \n",
            "=================================================================\n",
            "Total params: 1850497 (7.06 MB)\n",
            "Trainable params: 1850497 (7.06 MB)\n",
            "Non-trainable params: 0 (0.00 Byte)\n",
            "_________________________________________________________________\n"
          ]
        }
      ]
    },
    {
      "cell_type": "code",
      "source": [
        "img = generator(np.random.randn(4, 128, 1))\n",
        "img.shape"
      ],
      "metadata": {
        "colab": {
          "base_uri": "https://localhost:8080/"
        },
        "id": "vLEn87OEGasz",
        "outputId": "d9435949-9bb9-44b9-b7bd-d2a6de6e0017"
      },
      "execution_count": 52,
      "outputs": [
        {
          "output_type": "execute_result",
          "data": {
            "text/plain": [
              "TensorShape([4, 28, 28, 1])"
            ]
          },
          "metadata": {},
          "execution_count": 52
        }
      ]
    },
    {
      "cell_type": "code",
      "source": [
        "fig, axs = plt.subplots(ncols=4, figsize=(8, 8))\n",
        "for idx, im in enumerate(img):\n",
        "  axs[idx].imshow(im, 'gray')\n",
        "  axs[idx].axis('off')"
      ],
      "metadata": {
        "colab": {
          "base_uri": "https://localhost:8080/",
          "height": 171
        },
        "id": "ghZqOi9kGo0e",
        "outputId": "ff097a25-4624-4702-c1cf-c6ebe8ac0fa6"
      },
      "execution_count": 53,
      "outputs": [
        {
          "output_type": "display_data",
          "data": {
            "text/plain": [
              "<Figure size 800x800 with 4 Axes>"
            ],
            "image/png": "[encoded data removed]"
          },
          "metadata": {}
        }
      ]
    },
    {
      "cell_type": "code",
      "source": [
        "def build_discriminator():\n",
        "  model = Sequential([\n",
        "      Conv2D(32, 5, input_shape=(28, 28, 1)),\n",
        "      LeakyReLU(0.2),\n",
        "      Dropout(0.4),\n",
        "\n",
        "      Conv2D(64, 5),\n",
        "      LeakyReLU(0.2),\n",
        "      Dropout(0.4),\n",
        "\n",
        "      Conv2D(128, 5),\n",
        "      LeakyReLU(0.2),\n",
        "      Dropout(0.4),\n",
        "\n",
        "      Conv2D(256, 5),\n",
        "      LeakyReLU(0.2),\n",
        "      Dropout(0.4),\n",
        "\n",
        "      Flatten(),\n",
        "      Dense(1, activation='sigmoid')\n",
        "  ])\n",
        "\n",
        "  return model"
      ],
      "metadata": {
        "id": "Hrm4NWRgF8Bo"
      },
      "execution_count": 54,
      "outputs": []
    },
    {
      "cell_type": "code",
      "source": [
        "discriminator = build_discriminator()\n",
        "discriminator.summary()"
      ],
      "metadata": {
        "id": "-bZ035byGFvk",
        "colab": {
          "base_uri": "https://localhost:8080/"
        },
        "outputId": "1eeca41f-f1cf-4017-f738-fb93ff9aff86"
      },
      "execution_count": 55,
      "outputs": [
        {
          "output_type": "stream",
          "name": "stdout",
          "text": [
            "Model: \"sequential_3\"\n",
            "_________________________________________________________________\n",
            " Layer (type)                Output Shape              Param #   \n",
            "=================================================================\n",
            " conv2d_14 (Conv2D)          (None, 24, 24, 32)        832       \n",
            "                                                                 \n",
            " leaky_re_lu_14 (LeakyReLU)  (None, 24, 24, 32)        0         \n",
            "                                                                 \n",
            " dropout_4 (Dropout)         (None, 24, 24, 32)        0         \n",
            "                                                                 \n",
            " conv2d_15 (Conv2D)          (None, 20, 20, 64)        51264     \n",
            "                                                                 \n",
            " leaky_re_lu_15 (LeakyReLU)  (None, 20, 20, 64)        0         \n",
            "                                                                 \n",
            " dropout_5 (Dropout)         (None, 20, 20, 64)        0         \n",
            "                                                                 \n",
            " conv2d_16 (Conv2D)          (None, 16, 16, 128)       204928    \n",
            "                                                                 \n",
            " leaky_re_lu_16 (LeakyReLU)  (None, 16, 16, 128)       0         \n",
            "                                                                 \n",
            " dropout_6 (Dropout)         (None, 16, 16, 128)       0         \n",
            "                                                                 \n",
            " conv2d_17 (Conv2D)          (None, 12, 12, 256)       819456    \n",
            "                                                                 \n",
            " leaky_re_lu_17 (LeakyReLU)  (None, 12, 12, 256)       0         \n",
            "                                                                 \n",
            " dropout_7 (Dropout)         (None, 12, 12, 256)       0         \n",
            "                                                                 \n",
            " flatten_1 (Flatten)         (None, 36864)             0         \n",
            "                                                                 \n",
            " dense_3 (Dense)             (None, 1)                 36865     \n",
            "                                                                 \n",
            "=================================================================\n",
            "Total params: 1113345 (4.25 MB)\n",
            "Trainable params: 1113345 (4.25 MB)\n",
            "Non-trainable params: 0 (0.00 Byte)\n",
            "_________________________________________________________________\n"
          ]
        }
      ]
    },
    {
      "cell_type": "code",
      "source": [
        "iter = ds.as_numpy_iterator()"
      ],
      "metadata": {
        "id": "P17V_c7QK5qJ"
      },
      "execution_count": 56,
      "outputs": []
    },
    {
      "cell_type": "code",
      "source": [
        "img = iter.next()\n",
        "img = img[0]"
      ],
      "metadata": {
        "id": "XxyhPsQrLk1N"
      },
      "execution_count": 57,
      "outputs": []
    },
    {
      "cell_type": "code",
      "source": [
        "plt.imshow(img, 'gray')\n",
        "plt.axis('off')"
      ],
      "metadata": {
        "colab": {
          "base_uri": "https://localhost:8080/",
          "height": 423
        },
        "id": "6ubghaZ5LplV",
        "outputId": "24ab2d9a-398b-4072-e03f-ffebae931040"
      },
      "execution_count": 58,
      "outputs": [
        {
          "output_type": "execute_result",
          "data": {
            "text/plain": [
              "(-0.5, 27.5, 27.5, -0.5)"
            ]
          },
          "metadata": {},
          "execution_count": 58
        },
        {
          "output_type": "display_data",
          "data": {
            "text/plain": [
              "<Figure size 640x480 with 1 Axes>"
            ],
            "image/png": "[encoded data removed]"
          },
          "metadata": {}
        }
      ]
    },
    {
      "cell_type": "code",
      "source": [
        "discriminator(np.expand_dims(img, 0))"
      ],
      "metadata": {
        "colab": {
          "base_uri": "https://localhost:8080/"
        },
        "id": "kVYCbFTIJbod",
        "outputId": "aa900767-4bb7-421b-de63-6a2f6738022c"
      },
      "execution_count": 59,
      "outputs": [
        {
          "output_type": "execute_result",
          "data": {
            "text/plain": [
              "<tf.Tensor: shape=(1, 1), dtype=float32, numpy=array([[0.5014325]], dtype=float32)>"
            ]
          },
          "metadata": {},
          "execution_count": 59
        }
      ]
    },
    {
      "cell_type": "code",
      "source": [
        "from keras.losses import BinaryCrossentropy\n",
        "from keras.optimizers import Adam"
      ],
      "metadata": {
        "id": "YZT9lQCZLY4z"
      },
      "execution_count": 60,
      "outputs": []
    },
    {
      "cell_type": "code",
      "source": [
        "g_loss, d_loss = BinaryCrossentropy(), BinaryCrossentropy()\n",
        "g_opt, d_opt = Adam(learning_rate=0.0001), Adam(learning_rate=0.0001)"
      ],
      "metadata": {
        "id": "0qjhlvylMD45"
      },
      "execution_count": 61,
      "outputs": []
    },
    {
      "cell_type": "code",
      "source": [
        "class DCGAN(keras.Model):\n",
        "  def __init__(self, generator, discriminator, *args, **kwargs):\n",
        "    super().__init__(*args, **kwargs)\n",
        "    self.generator = generator\n",
        "    self.discriminator = discriminator\n",
        "\n",
        "  def compile(self, g_opt, d_opt, g_loss, d_loss, *args, **kwargs):\n",
        "    super().compile(*args, **kwargs)\n",
        "    self.g_opt = g_opt\n",
        "    self.d_opt = d_opt\n",
        "    self.g_loss = g_loss\n",
        "    self.d_loss = d_loss\n",
        "\n",
        "  def train_step(self, batch):\n",
        "    real_img = batch\n",
        "    fake_img = self.generator(tf.random.normal((128, 128, 1)), training=False)\n",
        "\n",
        "    with tf.GradientTape() as disc_tape:\n",
        "      yhat_real = self.discriminator(real_img, training=True)\n",
        "      yhat_fake = self.discriminator(fake_img, training=True)\n",
        "\n",
        "      yhat_realfake = tf.concat([yhat_real, yhat_fake], axis=0)\n",
        "      y = tf.concat([tf.zeros_like(yhat_real), tf.ones_like(yhat_fake)], axis=0)\n",
        "\n",
        "      noisy_real = 0.2 * tf.random.uniform(tf.shape(yhat_real))\n",
        "      noisy_fake = -0.2 * tf.random.uniform(tf.shape(yhat_fake))\n",
        "      y += tf.concat([noisy_real, noisy_fake], axis = 0)\n",
        "      # print(y)\n",
        "\n",
        "      disc_loss = self.d_loss(y, yhat_realfake)\n",
        "\n",
        "    d_grad = disc_tape.gradient(disc_loss, self.discriminator.trainable_variables)\n",
        "    self.d_opt.apply_gradients(zip(d_grad, self.discriminator.trainable_variables))\n",
        "\n",
        "    with tf.GradientTape() as gen_tape:\n",
        "      gen_imgs = generator(tf.random.normal((BATCH_SIZE, 128, 1)), training=True)\n",
        "      yhat_fake = discriminator(gen_imgs, training=False)\n",
        "      y_real = tf.zeros_like(yhat_fake)\n",
        "      gen_loss = self.g_loss(y_real, yhat_fake)\n",
        "\n",
        "    g_grad = gen_tape.gradient(gen_loss, self.generator.trainable_variables)\n",
        "    self.g_opt.apply_gradients(zip(g_grad, self.generator.trainable_variables))\n",
        "\n",
        "    return {'d_loss': disc_loss, 'g_loss': gen_loss}"
      ],
      "metadata": {
        "id": "NkyQr29NMOiC"
      },
      "execution_count": 62,
      "outputs": []
    },
    {
      "cell_type": "code",
      "source": [
        "from keras.preprocessing.image import array_to_img\n",
        "from keras.callbacks import Callback"
      ],
      "metadata": {
        "id": "L9DPbPOxQedS"
      },
      "execution_count": 63,
      "outputs": []
    },
    {
      "cell_type": "code",
      "source": [
        "!mkdir images"
      ],
      "metadata": {
        "id": "elOpyulsRuYo",
        "colab": {
          "base_uri": "https://localhost:8080/"
        },
        "outputId": "fff9b5ff-016b-4d2e-8d44-0a97bf27ea7d"
      },
      "execution_count": 64,
      "outputs": [
        {
          "output_type": "stream",
          "name": "stdout",
          "text": [
            "mkdir: cannot create directory ‘images’: File exists\n"
          ]
        }
      ]
    },
    {
      "cell_type": "code",
      "source": [
        "class Monitor(Callback):\n",
        "  def __init__(self, num_img=3, latent_dim=128):\n",
        "    self.num_img = num_img\n",
        "    self.latent_dim = latent_dim\n",
        "\n",
        "  def on_epoch_end(self, epoch, logs=None):\n",
        "    if epoch % 5 == 0:\n",
        "      gen_imgs = self.model.generator(tf.random.normal((self.num_img, self.latent_dim, 1)))\n",
        "      gen_imgs *= 255\n",
        "      gen_imgs.numpy()\n",
        "\n",
        "      for i in range(self.num_img):\n",
        "        img = array_to_img(gen_imgs[i])\n",
        "        img.save(os.path.join('images', f'{epoch}_{i}.png'))"
      ],
      "metadata": {
        "id": "jyD8bPyuQvKu"
      },
      "execution_count": 65,
      "outputs": []
    },
    {
      "cell_type": "code",
      "source": [
        "mnistGan = DCGAN(generator, discriminator)\n",
        "mnistGan.compile(g_opt, d_opt, g_loss, d_loss)"
      ],
      "metadata": {
        "id": "UggW7i9MR3CH"
      },
      "execution_count": 66,
      "outputs": []
    },
    {
      "cell_type": "code",
      "source": [
        "EPOCHS = 30"
      ],
      "metadata": {
        "id": "l0gT9GwQSdYk"
      },
      "execution_count": 67,
      "outputs": []
    },
    {
      "cell_type": "code",
      "source": [
        "with tf.device('/device:GPU:0'):\n",
        "  history = mnistGan.fit(ds, epochs=EPOCHS, callbacks=[Monitor()])"
      ],
      "metadata": {
        "colab": {
          "base_uri": "https://localhost:8080/"
        },
        "id": "ts4RqgEESHWW",
        "outputId": "affd5c29-4688-453c-d70a-c93704cd32fb"
      },
      "execution_count": 68,
      "outputs": [
        {
          "output_type": "stream",
          "name": "stdout",
          "text": [
            "Epoch 1/30\n",
            "469/469 [==============================] - 71s 141ms/step - d_loss: 0.3471 - g_loss: 2.1621\n",
            "Epoch 2/30\n",
            "469/469 [==============================] - 66s 140ms/step - d_loss: 0.3255 - g_loss: 2.3430\n",
            "Epoch 3/30\n",
            "469/469 [==============================] - 66s 140ms/step - d_loss: 0.3260 - g_loss: 2.3575\n",
            "Epoch 4/30\n",
            "469/469 [==============================] - 66s 140ms/step - d_loss: 0.3255 - g_loss: 2.3516\n",
            "Epoch 5/30\n",
            "469/469 [==============================] - 65s 139ms/step - d_loss: 0.3257 - g_loss: 2.3422\n",
            "Epoch 6/30\n",
            "469/469 [==============================] - 65s 140ms/step - d_loss: 0.3924 - g_loss: 2.1609\n",
            "Epoch 7/30\n",
            "469/469 [==============================] - 66s 140ms/step - d_loss: 0.5268 - g_loss: 1.1906\n",
            "Epoch 8/30\n",
            "469/469 [==============================] - 66s 140ms/step - d_loss: 0.5787 - g_loss: 1.1729\n",
            "Epoch 9/30\n",
            "469/469 [==============================] - 66s 140ms/step - d_loss: 0.6137 - g_loss: 0.9527\n",
            "Epoch 10/30\n",
            "469/469 [==============================] - 66s 140ms/step - d_loss: 0.6307 - g_loss: 0.9522\n",
            "Epoch 11/30\n",
            "469/469 [==============================] - 66s 140ms/step - d_loss: 0.6240 - g_loss: 0.9389\n",
            "Epoch 12/30\n",
            "469/469 [==============================] - 66s 140ms/step - d_loss: 0.6195 - g_loss: 0.9799\n",
            "Epoch 13/30\n",
            "469/469 [==============================] - 66s 140ms/step - d_loss: 0.6076 - g_loss: 1.0055\n",
            "Epoch 14/30\n",
            "469/469 [==============================] - 66s 140ms/step - d_loss: 0.6226 - g_loss: 0.9534\n",
            "Epoch 15/30\n",
            "469/469 [==============================] - 65s 139ms/step - d_loss: 0.6284 - g_loss: 0.9120\n",
            "Epoch 16/30\n",
            "469/469 [==============================] - 65s 139ms/step - d_loss: 0.6177 - g_loss: 0.9691\n",
            "Epoch 17/30\n",
            "469/469 [==============================] - 66s 140ms/step - d_loss: 0.6331 - g_loss: 0.9136\n",
            "Epoch 18/30\n",
            "469/469 [==============================] - 66s 140ms/step - d_loss: 0.6387 - g_loss: 0.8700\n",
            "Epoch 19/30\n",
            "469/469 [==============================] - 66s 140ms/step - d_loss: 0.6424 - g_loss: 0.8899\n",
            "Epoch 20/30\n",
            "469/469 [==============================] - 66s 140ms/step - d_loss: 0.6504 - g_loss: 0.8492\n",
            "Epoch 21/30\n",
            "469/469 [==============================] - 66s 140ms/step - d_loss: 0.6551 - g_loss: 0.8380\n",
            "Epoch 22/30\n",
            "469/469 [==============================] - 66s 140ms/step - d_loss: 0.6613 - g_loss: 0.8339\n",
            "Epoch 23/30\n",
            "469/469 [==============================] - 65s 139ms/step - d_loss: 0.6570 - g_loss: 0.8586\n",
            "Epoch 24/30\n",
            "469/469 [==============================] - 65s 140ms/step - d_loss: 0.6607 - g_loss: 0.8498\n",
            "Epoch 25/30\n",
            "469/469 [==============================] - 65s 139ms/step - d_loss: 0.6593 - g_loss: 0.8502\n",
            "Epoch 26/30\n",
            "469/469 [==============================] - 66s 140ms/step - d_loss: 0.6654 - g_loss: 0.8035\n",
            "Epoch 27/30\n",
            "469/469 [==============================] - 65s 140ms/step - d_loss: 0.6657 - g_loss: 0.8165\n",
            "Epoch 28/30\n",
            "469/469 [==============================] - 66s 140ms/step - d_loss: 0.6640 - g_loss: 0.8292\n",
            "Epoch 29/30\n",
            "469/469 [==============================] - 66s 140ms/step - d_loss: 0.6707 - g_loss: 0.8236\n",
            "Epoch 30/30\n",
            "469/469 [==============================] - 65s 140ms/step - d_loss: 0.6711 - g_loss: 0.7787\n"
          ]
        }
      ]
    },
    {
      "cell_type": "code",
      "source": [
        "generator.save('generator.h5')\n",
        "discriminator.save('discriminator.h5')"
      ],
      "metadata": {
        "colab": {
          "base_uri": "https://localhost:8080/"
        },
        "id": "ctVEByHc-Y69",
        "outputId": "f30d1e92-5e03-4cb8-d7fa-b0910342f077"
      },
      "execution_count": 69,
      "outputs": [
        {
          "output_type": "stream",
          "name": "stderr",
          "text": [
            "/usr/local/lib/python3.10/dist-packages/keras/src/engine/training.py:3103: UserWarning: You are saving your model as an HDF5 file via `model.save()`. This file format is considered legacy. We recommend using instead the native Keras format, e.g. `model.save('my_model.keras')`.\n",
            "  saving_api.save_model(\n",
            "WARNING:tensorflow:Compiled the loaded model, but the compiled metrics have yet to be built. `model.compile_metrics` will be empty until you train or evaluate the model.\n",
            "WARNING:tensorflow:Compiled the loaded model, but the compiled metrics have yet to be built. `model.compile_metrics` will be empty until you train or evaluate the model.\n"
          ]
        }
      ]
    },
    {
      "cell_type": "code",
      "source": [
        "plt.plot(history.history['d_loss'], label='d_loss')\n",
        "plt.plot(history.history['g_loss'], label='g_loss')\n",
        "plt.legend(['Discriminator loss', 'Generator Loss'])\n",
        "plt.xlabel('Epochs')\n",
        "plt.ylabel('Loss')\n",
        "plt.show()"
      ],
      "metadata": {
        "colab": {
          "base_uri": "https://localhost:8080/",
          "height": 449
        },
        "id": "l4sPLMqT-uBx",
        "outputId": "1476a3e0-8f99-4b3e-9162-c30e3a01dc05"
      },
      "execution_count": 70,
      "outputs": [
        {
          "output_type": "display_data",
          "data": {
            "text/plain": [
              "<Figure size 640x480 with 1 Axes>"
            ],
            "image/png": "[encoded data removed]"
          },
          "metadata": {}
        }
      ]
    },
    {
      "cell_type": "code",
      "source": [
        "img = generator.predict(np.random.randn(6, 128, 1))\n",
        "img.shape"
      ],
      "metadata": {
        "colab": {
          "base_uri": "https://localhost:8080/"
        },
        "id": "s2QOLuxQ_HAm",
        "outputId": "d21bbe11-0247-4420-b33d-c17e1c5fede0"
      },
      "execution_count": 81,
      "outputs": [
        {
          "output_type": "stream",
          "name": "stdout",
          "text": [
            "1/1 [==============================] - 0s 35ms/step\n"
          ]
        },
        {
          "output_type": "execute_result",
          "data": {
            "text/plain": [
              "(6, 28, 28, 1)"
            ]
          },
          "metadata": {},
          "execution_count": 81
        }
      ]
    },
    {
      "cell_type": "code",
      "source": [
        "fig, axs = plt.subplots(ncols=6, figsize=(10, 10))\n",
        "for idx, im in enumerate(img):\n",
        "  axs[idx].imshow(im, 'gray')\n",
        "  axs[idx].axis('off')"
      ],
      "metadata": {
        "colab": {
          "base_uri": "https://localhost:8080/",
          "height": 147
        },
        "id": "6efFTqfp-5Yg",
        "outputId": "5ec5e0ba-9d0c-41b7-8418-6303f08f004b"
      },
      "execution_count": 82,
      "outputs": [
        {
          "output_type": "display_data",
          "data": {
            "text/plain": [
              "<Figure size 1000x1000 with 6 Axes>"
            ],
            "image/png": "[encoded data removed]"
          },
          "metadata": {}
        }
      ]
    }
  ]
}